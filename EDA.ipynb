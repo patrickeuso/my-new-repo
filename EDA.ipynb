{
 "cells": [
  {
   "cell_type": "code",
   "execution_count": null,
   "metadata": {},
   "outputs": [],
   "source": [
    "import pandas as pd\n",
    "import plotly.express as px\n",
    "\n",
    "# Defina o caminho do arquivo\n",
    "file_path = r\"C:\\Users\\HP\\OneDrive\\Desktop\\Pessoal\\Tripleten - Bootcamp\\Modulo 5\\Projeto 5\\vehicles.csv\"\n",
    "\n",
    "# Leia os dados\n",
    "car_data = pd.read_csv(file_path)\n",
    "\n",
    "# Crie um histograma\n",
    "fig = px.histogram(car_data, x=\"odometer\")\n",
    "\n",
    "# Exiba o histograma\n",
    "fig.show()\n"
   ]
  },
  {
   "cell_type": "code",
   "execution_count": null,
   "metadata": {},
   "outputs": [],
   "source": [
    "import pandas as pd\n",
    "import plotly.express as px\n",
    "\n",
    "# Defina o caminho do arquivo\n",
    "file_path = r\"C:\\Users\\HP\\OneDrive\\Desktop\\Pessoal\\Tripleten - Bootcamp\\Modulo 5\\Projeto 5\\vehicles.csv\"\n",
    "\n",
    "# Leia os dados\n",
    "car_data = pd.read_csv(file_path)\n",
    "\n",
    "\n",
    "fig = px.scatter(car_data, x=\"odometer\", y=\"price\") # criar um gráfico de dispersão\n",
    "fig.show() # exibindo"
   ]
  }
 ],
 "metadata": {
  "kernelspec": {
   "display_name": "base",
   "language": "python",
   "name": "python3"
  },
  "language_info": {
   "codemirror_mode": {
    "name": "ipython",
    "version": 3
   },
   "file_extension": ".py",
   "mimetype": "text/x-python",
   "name": "python",
   "nbconvert_exporter": "python",
   "pygments_lexer": "ipython3",
   "version": "3.12.4"
  }
 },
 "nbformat": 4,
 "nbformat_minor": 2
}
